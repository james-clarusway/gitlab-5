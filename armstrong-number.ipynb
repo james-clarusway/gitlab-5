{
 "cells": [
  {
   "cell_type": "code",
   "execution_count": 1,
   "metadata": {},
   "outputs": [
    {
     "output_type": "stream",
     "name": "stdout",
     "text": "this is a armtrong number\n"
    }
   ],
   "source": [
    "while True:\n",
    "    number = input('Please enter a positve integer number')\n",
    "    if not number.isdigit():\n",
    "        print('Enter a positive number or 0')\n",
    "        continue\n",
    "    n=len(number)\n",
    "    total=0\n",
    "        #total = int(number[0])**n + int(number[1])**n+ int(number[2])**n +int(number[3])**n\n",
    "    for i in range(n):\n",
    "        total += int(number[i])**n\n",
    "    if int(number) == total:\n",
    "        print('this is a armtrong number')\n",
    "        break                \n",
    "    else:\n",
    "        print( \"this is not\")\n",
    "        break"
   ]
  },
  {
   "cell_type": "code",
   "execution_count": null,
   "metadata": {},
   "outputs": [],
   "source": [
    "n=int(input('Enter a number to check if it is a prime number : '))\n",
    "count=0\n",
    "for i in range(1, n+1):\n",
    "    if n%i==0 : count += 1\n",
    "    else : count += 0\n",
    "if (n == 0) or (n == 1): print(n, \"is not a prime number\")\n",
    "elif count < 3: print(n, \"is a prime number\")\n",
    "else : print(n, \"is not a prime number\")"
   ]
  },
  {
   "cell_type": "code",
   "execution_count": 4,
   "metadata": {},
   "outputs": [
    {
     "output_type": "stream",
     "name": "stdout",
     "text": "13 is a prime number\n"
    }
   ],
   "source": [
    "n=int(input('Enter a number to check if it is a prime number : '))\n",
    "status=True\n",
    "for i in range(2, n):\n",
    "    if n%i==0 : status=False\n",
    "if (n == 0) or (n == 1): print(n, \"is not a prime number\")\n",
    "elif status: print(n, \"is a prime number\")\n",
    "else : print(n, \"is not a prime number\")"
   ]
  },
  {
   "cell_type": "code",
   "execution_count": 14,
   "metadata": {},
   "outputs": [
    {
     "output_type": "stream",
     "name": "stdout",
     "text": "5 6 7\n"
    }
   ],
   "source": [
    "a, b, c= 5, 6, 7\n",
    "print(a,b,c)"
   ]
  },
  {
   "cell_type": "code",
   "execution_count": 17,
   "metadata": {},
   "outputs": [
    {
     "output_type": "stream",
     "name": "stdout",
     "text": "1 = 6\n2 = 7\n3 = 8\n"
    }
   ],
   "source": [
    "numbers = [1, 2, 3, 4]\n",
    "alfs = [\"a\", \"b\", \"c\"]\n",
    "#print(*number)\n",
    "for number, alf in zip(numbers, alfs):\n",
    "    print(number,\"=\",alf)"
   ]
  },
  {
   "cell_type": "code",
   "execution_count": 16,
   "metadata": {},
   "outputs": [
    {
     "output_type": "stream",
     "name": "stdout",
     "text": "6 7 8\n"
    }
   ],
   "source": [
    "a, b, c= 6, 7, 8\n",
    "print(a,b,c)"
   ]
  },
  {
   "cell_type": "code",
   "execution_count": null,
   "metadata": {},
   "outputs": [],
   "source": []
  }
 ],
 "metadata": {
  "language_info": {
   "codemirror_mode": {
    "name": "ipython",
    "version": 3
   },
   "file_extension": ".py",
   "mimetype": "text/x-python",
   "name": "python",
   "nbconvert_exporter": "python",
   "pygments_lexer": "ipython3",
   "version": "3.8.2-final"
  },
  "orig_nbformat": 2,
  "kernelspec": {
   "name": "python38232bit5a81677c6b2645a3bb6caef2a7f03c9a",
   "display_name": "Python 3.8.2 32-bit"
  }
 },
 "nbformat": 4,
 "nbformat_minor": 2
}